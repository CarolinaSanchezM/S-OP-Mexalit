{
 "cells": [
  {
   "cell_type": "markdown",
   "id": "5a4521ec-d5f5-4ede-ad83-14367ca31a84",
   "metadata": {},
   "source": [
    "## Código para limpiar la base de datos y unir Inventario + Ventas"
   ]
  },
  {
   "cell_type": "markdown",
   "id": "0f62c0d2-3943-4c3b-b5e5-93c79acc5ab1",
   "metadata": {},
   "source": [
    "### Pasos manuales antes de ingresar tu archivo:\n",
    "#### 1) Cargar un solo archivo de Excel con dos hojas llamadas 'Ventas' e 'Inventario':\n",
    "##### Asegúrate de que el archivo de Excel tenga exactamente dos hojas con los nombres 'Ventas' e 'Inventario'.\n",
    "##### Los nombres de las hojas deben comenzar con una letra mayúscula y coincidir exactamente con Ventas e Inventario.KG'.\n"
   ]
  },
  {
   "cell_type": "markdown",
   "id": "79b599da-dc13-46b5-8f54-c6dbce808ff5",
   "metadata": {},
   "source": [
    "#### 2)Modificar la hoja 'Ventas':\n",
    "##### Eliminar la segunda columna 'Denominación':\n",
    "###### Si hay dos columnas llamadas 'Denominación', elimina la segunda.\n",
    "###### Ejemplo: Si tienes Denominación: AGROTANQUE PE EUREKA NEGRO 5,000 L ND y Denominación: CISTERNAS, elimina la columna con Denominación: CISTERNAS.\n",
    "##### Renombrar la columna 'Total KG' a 'KG':\n",
    "###### Encuentra la columna llamada 'Total KG' y renómbrala a 'KG'."
   ]
  },
  {
   "cell_type": "markdown",
   "id": "be33c59c-e21f-40fa-ae37-9a75c25b9421",
   "metadata": {},
   "source": [
    "#### 3)Modificar la hoja 'Inventario':\n",
    "##### Renombrar la columna 'texto breve de material' a 'Denominación':\n",
    "###### Encuentra la columna llamada texto breve de material y renómbrala a Denominación.\n",
    "##### Renombrar la columna 'Valor Total Libre + Calidad' a 'Total':\n",
    "###### Encuentra la columna llamada Valor Total Libre + Calidad y renómbrala a Total."
   ]
  },
  {
   "cell_type": "markdown",
   "id": "1b51f8db-b4d0-426d-ae2f-4686304305ee",
   "metadata": {},
   "source": [
    "### Después de realizar estas modificaciones manuales, puedes usar el siguiente código para procesar los datos:"
   ]
  },
  {
   "cell_type": "markdown",
   "id": "beb9ea1a-9d27-4bd5-9275-21facb276f86",
   "metadata": {},
   "source": [
    "#### 1. Instalar la librería"
   ]
  },
  {
   "cell_type": "code",
   "execution_count": null,
   "id": "d38eff68-51f4-4392-be8a-1aba2922ccae",
   "metadata": {},
   "outputs": [],
   "source": [
    "pip install pandas numpy"
   ]
  },
  {
   "cell_type": "markdown",
   "id": "2399a3db-2842-4493-9b18-d0be80008003",
   "metadata": {},
   "source": [
    "#### 2. Importar la librería"
   ]
  },
  {
   "cell_type": "code",
   "execution_count": null,
   "id": "97ebc183-39fc-4e33-820e-4df519b28410",
   "metadata": {},
   "outputs": [],
   "source": [
    "import pandas as pd"
   ]
  },
  {
   "cell_type": "markdown",
   "id": "a1d1b0ed-deea-4099-9828-16a819dd5ed8",
   "metadata": {},
   "source": [
    "#### 3.Subir el archivo de excel\n",
    "##### Aparece una leyenda abajo donde pondrás la ruta del archivo"
   ]
  },
  {
   "cell_type": "code",
   "execution_count": 8,
   "id": "3f65244e-a468-4695-9bc3-bae9f7cffbb8",
   "metadata": {},
   "outputs": [
    {
     "name": "stdin",
     "output_type": "stream",
     "text": [
      "Ingrese la ruta completa del archivo de Excel (por ejemplo, 'C:/ruta/al/archivo.xlsx'):  C:\\Users\\mcsanchezm\\Downloads\\DataBase.xlsx\n"
     ]
    },
    {
     "name": "stdout",
     "output_type": "stream",
     "text": [
      "Archivo cargado exitosamente.\n"
     ]
    }
   ],
   "source": [
    "import pandas as pd\n",
    "\n",
    "# Cargar el archivo de Excel manualmente\n",
    "file_path = input(\"Ingrese la ruta completa del archivo de Excel (por ejemplo, 'C:/ruta/al/archivo.xlsx'): \")\n",
    "\n",
    "try:\n",
    "    ventas_df = pd.read_excel(file_path, sheet_name='Ventas')\n",
    "    inventario_df = pd.read_excel(file_path, sheet_name='Inventario')\n",
    "    print(\"Archivo cargado exitosamente.\")\n",
    "except Exception as e:\n",
    "    print(f\"Error al leer el archivo de Excel: {e}\")\n"
   ]
  },
  {
   "cell_type": "markdown",
   "id": "cccffef6-2d84-4929-be33-21af7a3a7c46",
   "metadata": {},
   "source": [
    "#### 4.Procesamiento de los datos\n",
    "##### Aparece una leyenda donde solicitará el mes y año de interés. Posteriormente pondrás el nombre del archivo de salida (Sigue los ejemplos)"
   ]
  },
  {
   "cell_type": "code",
   "execution_count": 9,
   "id": "57d31bff-51e1-417d-b41a-065f885d914e",
   "metadata": {},
   "outputs": [
    {
     "name": "stderr",
     "output_type": "stream",
     "text": [
      "C:\\Users\\mcsanchezm\\AppData\\Local\\Temp\\ipykernel_17892\\2762773368.py:28: FutureWarning: Setting an item of incompatible dtype is deprecated and will raise in a future error of pandas. Value '[11671.06 11671.06 11671.06 11671.06 11671.06 11671.06 11671.06 11671.06\n",
      " 11671.06]' has dtype incompatible with int64, please explicitly cast to a compatible dtype first.\n",
      "  ventas_df.loc[mask, 'ALPT'] += row['Total']\n",
      "C:\\Users\\mcsanchezm\\AppData\\Local\\Temp\\ipykernel_17892\\2762773368.py:30: FutureWarning: Setting an item of incompatible dtype is deprecated and will raise in a future error of pandas. Value '[218.5 218.5 218.5 218.5 218.5 218.5 218.5 218.5 218.5 218.5 218.5 218.5\n",
      " 218.5 218.5 218.5 218.5 218.5]' has dtype incompatible with int64, please explicitly cast to a compatible dtype first.\n",
      "  ventas_df.loc[mask, 'ALPP'] += row['Total']\n"
     ]
    },
    {
     "name": "stdin",
     "output_type": "stream",
     "text": [
      "Ingrese el mes que desea filtrar (por ejemplo, 'abril'):  abril\n",
      "Ingrese el año que desea filtrar (por ejemplo, 2024):  2024\n",
      "Ingrese el nombre del archivo de salida (por ejemplo, 'resultado.xlsx'):  base_final.xlsx\n"
     ]
    },
    {
     "name": "stdout",
     "output_type": "stream",
     "text": [
      "Archivo guardado en base_final.xlsx\n"
     ]
    }
   ],
   "source": [
    "# Función para limpiar y sumar ventas\n",
    "def limpiar_y_sumar_ventas(ventas_df):\n",
    "    ventas_limpias = ventas_df[['Mes', 'Familia', 'Año', 'Centro', 'Denominación', 'Material', 'KG']]\n",
    "    ventas_con_familia = ventas_limpias[ventas_limpias['Familia'].notna()]\n",
    "    ventas_sin_familia = ventas_limpias[ventas_limpias['Familia'].isna()]\n",
    "    ventas_agrupadas_con_familia = ventas_con_familia.groupby(\n",
    "        ['Mes', 'Familia', 'Año', 'Centro', 'Denominación', 'Material'], as_index=False).agg({'KG': 'sum'})\n",
    "    ventas_agrupadas_sin_familia = ventas_sin_familia.groupby(\n",
    "        ['Mes', 'Año', 'Centro', 'Denominación', 'Material'], as_index=False).agg({'KG': 'sum'})\n",
    "    ventas_agrupadas_sin_familia['Familia'] = 'Sin Familia'\n",
    "    ventas_agrupadas = pd.concat([ventas_agrupadas_con_familia, ventas_agrupadas_sin_familia], ignore_index=True)\n",
    "    ventas_agrupadas = ventas_agrupadas.rename(columns={'KG': 'Total_KG'})\n",
    "    return ventas_agrupadas\n",
    "\n",
    "# Función para unir inventario con ventas\n",
    "def unir_inventario_ventas(ventas_df, inventario_df):\n",
    "    inventario_agrupado = inventario_df.groupby(\n",
    "        ['Centro', 'Denominación', 'Material', 'Almacén'], as_index=False).agg({'Total': 'sum'})\n",
    "    ventas_df['ALPT'] = 0\n",
    "    ventas_df['ALPP'] = 0\n",
    "    for idx, row in inventario_agrupado.iterrows():\n",
    "        mask = (\n",
    "            (ventas_df['Centro'] == row['Centro']) &\n",
    "            (ventas_df['Denominación'] == row['Denominación']) &\n",
    "            (ventas_df['Material'] == row['Material'])\n",
    "        )\n",
    "        if row['Almacén'] == 'ALPT':\n",
    "            ventas_df.loc[mask, 'ALPT'] += row['Total']\n",
    "        elif row['Almacén'] == 'ALPP':\n",
    "            ventas_df.loc[mask, 'ALPP'] += row['Total']\n",
    "    return ventas_df\n",
    "\n",
    "# Función para aplicar filtro por mes y año\n",
    "def aplicar_filtro_mes_y_ano(ventas_df, mes, ano):\n",
    "    return ventas_df[(ventas_df['Mes'] == mes) & (ventas_df['Año'] == ano)]\n",
    "\n",
    "# Limpiar y sumar ventas\n",
    "ventas_agrupadas = limpiar_y_sumar_ventas(ventas_df)\n",
    "ventas_final = unir_inventario_ventas(ventas_agrupadas, inventario_df)\n",
    "\n",
    "# Solicitar al usuario que ingrese el mes y el año para filtrar\n",
    "mes_filtrado = input(\"Ingrese el mes que desea filtrar (por ejemplo, 'abril'): \")\n",
    "ano_filtrado = int(input(\"Ingrese el año que desea filtrar (por ejemplo, 2024): \"))\n",
    "\n",
    "# Aplicar el filtro por mes y año\n",
    "ventas_filtradas = aplicar_filtro_mes_y_ano(ventas_final, mes_filtrado, ano_filtrado)\n",
    "\n",
    "# Solicitar al usuario el nombre del archivo de salida\n",
    "nombre_archivo_salida = input(\"Ingrese el nombre del archivo de salida (por ejemplo, 'resultado.xlsx'): \")\n",
    "\n",
    "# Verificar si el nombre del archivo de salida tiene la extensión correcta\n",
    "if not nombre_archivo_salida.endswith('.xlsx'):\n",
    "    nombre_archivo_salida += '.xlsx'\n",
    "\n",
    "# Exportar el resultado a un archivo Excel\n",
    "ventas_filtradas.to_excel(nombre_archivo_salida, index=False)\n",
    "print(f'Archivo guardado en {nombre_archivo_salida}')\n"
   ]
  },
  {
   "cell_type": "markdown",
   "id": "420f87a9-2f43-4900-bae1-dfaa6625dcfb",
   "metadata": {},
   "source": [
    "#### 5. Busca tu archivo con el nombre que le asignaste en Explorador de archivos > Inicio > Buscar > Nombre de archivo"
   ]
  },
  {
   "cell_type": "code",
   "execution_count": null,
   "id": "2afa970f-f731-4bb7-946b-1a5d0abccbe5",
   "metadata": {},
   "outputs": [],
   "source": []
  }
 ],
 "metadata": {
  "kernelspec": {
   "display_name": "Python 3 (ipykernel)",
   "language": "python",
   "name": "python3"
  },
  "language_info": {
   "codemirror_mode": {
    "name": "ipython",
    "version": 3
   },
   "file_extension": ".py",
   "mimetype": "text/x-python",
   "name": "python",
   "nbconvert_exporter": "python",
   "pygments_lexer": "ipython3",
   "version": "3.11.7"
  }
 },
 "nbformat": 4,
 "nbformat_minor": 5
}
